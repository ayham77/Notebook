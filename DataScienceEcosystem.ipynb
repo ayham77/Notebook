{
 "cells": [
  {
   "cell_type": "markdown",
   "id": "72edb613",
   "metadata": {},
   "source": [
    "# Data Science Tools and Ecosystem"
   ]
  },
  {
   "cell_type": "markdown",
   "id": "fc6fb465",
   "metadata": {},
   "source": [
    "In this notebook, Data Science Tools and Ecosystem are summarized.\n"
   ]
  },
  {
   "cell_type": "markdown",
   "id": "cb07dcd4",
   "metadata": {},
   "source": [
    "Some of the popular languages that Data Scientists use are:\n",
    "1. Python\n",
    "2. R\n",
    "3. SQL"
   ]
  },
  {
   "cell_type": "markdown",
   "id": "72a2035a",
   "metadata": {},
   "source": [
    "Some of the commonly used libraries used by Data Scientists include:\n",
    "1. Pandas\n",
    "2. Nampy\n",
    "3. Matplotlib \n",
    "4. NumPy\n",
    "5. TensorFlow"
   ]
  },
  {
   "cell_type": "markdown",
   "id": "ca3e3056",
   "metadata": {},
   "source": [
    "|Data Science Tools|\n",
    "|---|\n",
    "|SAS|\n",
    "|Tensorflow|\n",
    "|Apache Hadoop|\n",
    "|PyTorch|\n"
   ]
  },
  {
   "cell_type": "markdown",
   "id": "a1942cfe",
   "metadata": {},
   "source": [
    "### Below are a few examples of evaluating arithmetic expressions in Python."
   ]
  },
  {
   "cell_type": "code",
   "execution_count": 4,
   "id": "b0b66401",
   "metadata": {},
   "outputs": [
    {
     "data": {
      "text/plain": [
       "17"
      ]
     },
     "execution_count": 4,
     "metadata": {},
     "output_type": "execute_result"
    }
   ],
   "source": [
    "#This a simple arithmetic expression to mutiply then add integers\n",
    "(3*4)+5\n"
   ]
  },
  {
   "cell_type": "code",
   "execution_count": 5,
   "id": "d9c5ebeb",
   "metadata": {},
   "outputs": [
    {
     "data": {
      "text/plain": [
       "3.3333333333333335"
      ]
     },
     "execution_count": 5,
     "metadata": {},
     "output_type": "execute_result"
    }
   ],
   "source": [
    "#This will convert 200 minutes to hours by diving by 60\n",
    "200/60"
   ]
  },
  {
   "cell_type": "markdown",
   "id": "4eee169a",
   "metadata": {},
   "source": [
    "_Objectives_\n",
    "* List popular languages for Data Science\n",
    "* List popular languages for Data Science\n",
    "* Creat markdown cells \n",
    "* List popular languages for Data Science"
   ]
  },
  {
   "cell_type": "markdown",
   "id": "0d0a82d5",
   "metadata": {},
   "source": [
    "## Author\n",
    "Ayham Issa "
   ]
  },
  {
   "cell_type": "code",
   "execution_count": null,
   "id": "b69f2262",
   "metadata": {},
   "outputs": [],
   "source": []
  }
 ],
 "metadata": {
  "kernelspec": {
   "display_name": "Python 3 (ipykernel)",
   "language": "python",
   "name": "python3"
  },
  "language_info": {
   "codemirror_mode": {
    "name": "ipython",
    "version": 3
   },
   "file_extension": ".py",
   "mimetype": "text/x-python",
   "name": "python",
   "nbconvert_exporter": "python",
   "pygments_lexer": "ipython3",
   "version": "3.11.0"
  }
 },
 "nbformat": 4,
 "nbformat_minor": 5
}
